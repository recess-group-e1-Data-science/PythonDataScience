{
 "cells": [
  {
   "cell_type": "code",
   "execution_count": 1,
   "id": "f55a3ff1",
   "metadata": {},
   "outputs": [],
   "source": [
    "# The convention is to import pandas shortcut as pd\n",
    "import pandas as pd\n",
    "data = pd.read_csv('2018CrimeStatisticsByCategoryOfCrime.csv')"
   ]
  },
  {
   "cell_type": "code",
   "execution_count": null,
   "id": "a604da75",
   "metadata": {},
   "outputs": [],
   "source": [
    "data.iloc[4:12]"
   ]
  }
 ],
 "metadata": {
  "kernelspec": {
   "display_name": "Python 3 (ipykernel)",
   "language": "python",
   "name": "python3"
  },
  "language_info": {
   "codemirror_mode": {
    "name": "ipython",
    "version": 3
   },
   "file_extension": ".py",
   "mimetype": "text/x-python",
   "name": "python",
   "nbconvert_exporter": "python",
   "pygments_lexer": "ipython3",
   "version": "3.10.2"
  }
 },
 "nbformat": 4,
 "nbformat_minor": 5
}
